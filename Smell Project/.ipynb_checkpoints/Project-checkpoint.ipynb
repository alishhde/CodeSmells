{
 "cells": [
  {
   "cell_type": "code",
   "execution_count": 2,
   "id": "2e291326",
   "metadata": {},
   "outputs": [
    {
     "name": "stdout",
     "output_type": "stream",
     "text": [
      "(14853, 15) \n",
      "\n",
      "This dataset consists of following features:\n",
      " Index(['id', 'reviewer_id', 'sample_id', 'smell', 'severity',\n",
      "       'review_timestamp', 'type', 'code_name', 'repository', 'commit_hash',\n",
      "       'path', 'start_line', 'end_line', 'link',\n",
      "       'is_from_industry_relevant_project'],\n",
      "      dtype='object')\n"
     ]
    }
   ],
   "source": [
    "import pandas as pd\n",
    "\n",
    "# Read the csv file\n",
    "df = pd.read_csv('D:\\\\Articles\\\\Code Smells\\\\CodeSmells\\\\Smell Project\\\\MainDataset.csv')\n",
    "\n",
    "# Print it out if you want\n",
    "print(df.shape, \"\\n\")\n",
    "print(\"This dataset consists of following features:\\n\", df.columns) # getting the features' name"
   ]
  },
  {
   "cell_type": "markdown",
   "id": "b959dddb",
   "metadata": {},
   "source": [
    "In the next we're going to delete the rows containing none value for severity. These rows are useless in our computations."
   ]
  },
  {
   "cell_type": "code",
   "execution_count": 3,
   "id": "f4af78df",
   "metadata": {},
   "outputs": [],
   "source": [
    "dfWithoutNone = df[df['severity'] != \"none\"]\n",
    "dfWithoutNone.shape\n",
    "dfWithoutNone.to_csv(\"D:\\\\Articles\\\\Code Smells\\\\CodeSmells\\\\Smell Project\\\\DatasetWithoutNone.csv\")"
   ]
  },
  {
   "cell_type": "code",
   "execution_count": null,
   "id": "d487ae04",
   "metadata": {},
   "outputs": [],
   "source": []
  },
  {
   "cell_type": "code",
   "execution_count": null,
   "id": "4d231435",
   "metadata": {},
   "outputs": [],
   "source": []
  },
  {
   "cell_type": "code",
   "execution_count": null,
   "id": "9df56e02",
   "metadata": {},
   "outputs": [],
   "source": [
    "import requests\n",
    "import lxml\n",
    "from bs4 import BeautifulSoup\n",
    "\n",
    "url = \"https://github.com/apache/tomcat/blob/a9c1a0661198d9ba37c1facd8385fe05d538c4ad/java/org/apache/el/parser/ELParser.java/#L140-L168\"\n",
    "headers = {\n",
    "  'User-Agent': 'Mozilla/5.0 (Windows NT 6.1; WOW64) AppleWebKit/537.36 (KHTML, like Gecko) Chrome/63.0.3239.132 Safari/537.36 QIHU 360SE'\n",
    "}\n",
    "f = requests.get(url, headers = headers)\n",
    "\n",
    "soup = BeautifulSoup(f.content,'lxml')\n",
    "# print(soup)\n",
    "\n",
    "movies = soup.find('td', {'id':'LC140'})\n",
    "print(movies)"
   ]
  },
  {
   "cell_type": "code",
   "execution_count": null,
   "id": "d3a79aa6",
   "metadata": {},
   "outputs": [],
   "source": []
  }
 ],
 "metadata": {
  "kernelspec": {
   "display_name": "Python 3 (ipykernel)",
   "language": "python",
   "name": "python3"
  },
  "language_info": {
   "codemirror_mode": {
    "name": "ipython",
    "version": 3
   },
   "file_extension": ".py",
   "mimetype": "text/x-python",
   "name": "python",
   "nbconvert_exporter": "python",
   "pygments_lexer": "ipython3",
   "version": "3.10.5"
  }
 },
 "nbformat": 4,
 "nbformat_minor": 5
}
